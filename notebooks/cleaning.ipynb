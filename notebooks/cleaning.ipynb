{
 "cells": [
  {
   "cell_type": "code",
   "execution_count": 2,
   "metadata": {},
   "outputs": [],
   "source": [
    "import pandas as pd\n",
    "from supabase import create_client, Client"
   ]
  },
  {
   "cell_type": "code",
   "execution_count": 5,
   "metadata": {},
   "outputs": [],
   "source": [
    "from dotenv import load_dotenv\n",
    "import os\n",
    "load_dotenv()\n",
    "\n",
    "def get_client_supabase():\n",
    "    url: str = os.environ.get(\"SUPABASE_URL\")\n",
    "    key: str = os.environ.get(\"SUPABASE_KEY\")\n",
    "    client: Client = create_client(url, key)\n",
    "    return client\n",
    "\n",
    "client = get_client_supabase()"
   ]
  },
  {
   "cell_type": "code",
   "execution_count": 6,
   "metadata": {},
   "outputs": [],
   "source": [
    "def get_existing_combinations(email):\n",
    "\n",
    "    # Assuming 'supabase' is your Supabase client\n",
    "    data, count = client.table('records').select('*').eq('email', email).execute()\n",
    "    data = pd.DataFrame(data[1])\n",
    "    return data\n",
    "\n",
    "    # Get the combinations\n",
    "    existing_combinations = {frozenset([row['option_left'], row['option_right']]) for _, row in data.iterrows()}\n",
    "\n",
    "    return existing_combinations"
   ]
  },
  {
   "cell_type": "code",
   "execution_count": 25,
   "metadata": {},
   "outputs": [
    {
     "name": "stderr",
     "output_type": "stream",
     "text": [
      "2023-10-10 19:41:32,529:INFO - HTTP Request: GET https://yijpyyyvdffshsqtrofv.supabase.co/rest/v1/records?select=%2A&email=eq.theo.alves.da.costa%40gmail.com \"HTTP/1.1 200 OK\"\n"
     ]
    }
   ],
   "source": [
    "x = get_existing_combinations('theo.alves.da.costa@gmail.com')"
   ]
  },
  {
   "cell_type": "code",
   "execution_count": 26,
   "metadata": {},
   "outputs": [],
   "source": [
    "# Creating an unique id for the combination not depending on left and right order\n",
    "x[\"combination_id\"] = x.apply(lambda row: frozenset([row['option_left'], row['option_right']]), axis=1) "
   ]
  },
  {
   "cell_type": "code",
   "execution_count": 27,
   "metadata": {},
   "outputs": [
    {
     "data": {
      "text/plain": [
       "False    211\n",
       "True     156\n",
       "dtype: int64"
      ]
     },
     "execution_count": 27,
     "metadata": {},
     "output_type": "execute_result"
    }
   ],
   "source": [
    "x.duplicated(subset = [\"combination_id\"]).value_counts()"
   ]
  },
  {
   "cell_type": "code",
   "execution_count": 28,
   "metadata": {},
   "outputs": [
    {
     "data": {
      "text/plain": [
       "True"
      ]
     },
     "execution_count": 28,
     "metadata": {},
     "output_type": "execute_result"
    }
   ],
   "source": [
    "frozenset([\"B\",\"A\"]) == frozenset([\"A\",\"B\"])"
   ]
  },
  {
   "cell_type": "code",
   "execution_count": null,
   "metadata": {},
   "outputs": [],
   "source": []
  }
 ],
 "metadata": {
  "kernelspec": {
   "display_name": "base",
   "language": "python",
   "name": "python3"
  },
  "language_info": {
   "codemirror_mode": {
    "name": "ipython",
    "version": 3
   },
   "file_extension": ".py",
   "mimetype": "text/x-python",
   "name": "python",
   "nbconvert_exporter": "python",
   "pygments_lexer": "ipython3",
   "version": "3.8.8"
  },
  "orig_nbformat": 4
 },
 "nbformat": 4,
 "nbformat_minor": 2
}
